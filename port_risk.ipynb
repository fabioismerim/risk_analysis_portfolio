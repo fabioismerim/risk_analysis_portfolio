{
 "cells": [
  {
   "cell_type": "markdown",
   "id": "f384fd36-d21a-4618-8a20-187d241df5e8",
   "metadata": {},
   "source": [
    "# Investment Risk and Returns"
   ]
  },
  {
   "cell_type": "code",
   "execution_count": 1,
   "id": "00f07bf5-7860-4e98-9892-beb86e584d1a",
   "metadata": {},
   "outputs": [
    {
     "name": "stdout",
     "output_type": "stream",
     "text": [
      "Python 3.7.11\n"
     ]
    }
   ],
   "source": [
    "!python --version"
   ]
  },
  {
   "cell_type": "code",
   "execution_count": 2,
   "id": "080d24f1-b821-4ba5-9d9b-a43edb4f7cf8",
   "metadata": {},
   "outputs": [],
   "source": [
    "# import packages\n",
    "\n",
    "import pandas as pd\n",
    "import numpy as np\n",
    "from pypfopt import risk_models\n",
    "from pypfopt import expected_returns\n",
    "from pypfopt.risk_models import CovarianceShrinkage\n",
    "from pypfopt.efficient_frontier import EfficientFrontier\n",
    "from pypfopt.cla import CLA\n",
    "import pypfopt.plotting as pplt\n",
    "import matplotlib.pyplot as plt\n",
    "import seaborn as sb\n",
    "from datetime import date\n",
    "from pypfopt.discrete_allocation import DiscreteAllocation, get_latest_prices\n",
    "plt.style.use('fivethirtyeight')\n",
    "\n",
    "%matplotlib inline\n",
    "\n",
    "import warnings\n",
    "warnings.filterwarnings('ignore')"
   ]
  },
  {
   "cell_type": "code",
   "execution_count": 3,
   "id": "91271c5a-b2f7-4ee6-ab83-416d7e30d8ca",
   "metadata": {},
   "outputs": [],
   "source": [
    "#import datasets\n",
    "\n",
    "amazon = pd.read_csv('dataset/AMAZON_HistoricalData.csv', parse_dates=['Date'])\n",
    "apple = pd.read_csv('dataset/APPLE_HistoricalData.csv', parse_dates=['Date'])\n",
    "baba = pd.read_csv('dataset/BABA_HistoricalData.csv', parse_dates=['Date'])\n",
    "tesla = pd.read_csv('dataset/TESLA_HistoricalData.csv', parse_dates=['Date'])\n",
    "tqqq = pd.read_csv('dataset/TQQQ_HistoricalData.csv', parse_dates=['Date'])"
   ]
  },
  {
   "cell_type": "code",
   "execution_count": 4,
   "id": "0526c5e7-792a-43d7-8a64-96de3ad408c4",
   "metadata": {},
   "outputs": [
    {
     "data": {
      "text/html": [
       "<div>\n",
       "<style scoped>\n",
       "    .dataframe tbody tr th:only-of-type {\n",
       "        vertical-align: middle;\n",
       "    }\n",
       "\n",
       "    .dataframe tbody tr th {\n",
       "        vertical-align: top;\n",
       "    }\n",
       "\n",
       "    .dataframe thead th {\n",
       "        text-align: right;\n",
       "    }\n",
       "</style>\n",
       "<table border=\"1\" class=\"dataframe\">\n",
       "  <thead>\n",
       "    <tr style=\"text-align: right;\">\n",
       "      <th></th>\n",
       "      <th>Date</th>\n",
       "      <th>Close/Last</th>\n",
       "      <th>Volume</th>\n",
       "      <th>Open</th>\n",
       "      <th>High</th>\n",
       "      <th>Low</th>\n",
       "    </tr>\n",
       "  </thead>\n",
       "  <tbody>\n",
       "    <tr>\n",
       "      <th>0</th>\n",
       "      <td>2022-02-04</td>\n",
       "      <td>$3152.79</td>\n",
       "      <td>12672790</td>\n",
       "      <td>$3112.13</td>\n",
       "      <td>$3224</td>\n",
       "      <td>$3012.16</td>\n",
       "    </tr>\n",
       "    <tr>\n",
       "      <th>1</th>\n",
       "      <td>2022-02-03</td>\n",
       "      <td>$2776.91</td>\n",
       "      <td>11276570</td>\n",
       "      <td>$2834.75</td>\n",
       "      <td>$2884.95</td>\n",
       "      <td>$2766.66</td>\n",
       "    </tr>\n",
       "    <tr>\n",
       "      <th>2</th>\n",
       "      <td>2022-02-02</td>\n",
       "      <td>$3012.25</td>\n",
       "      <td>4366488</td>\n",
       "      <td>$3101.0085</td>\n",
       "      <td>$3101.5</td>\n",
       "      <td>$2977.2717</td>\n",
       "    </tr>\n",
       "    <tr>\n",
       "      <th>3</th>\n",
       "      <td>2022-02-01</td>\n",
       "      <td>$3023.87</td>\n",
       "      <td>2960992</td>\n",
       "      <td>$3000</td>\n",
       "      <td>$3034.16</td>\n",
       "      <td>$2952.5548</td>\n",
       "    </tr>\n",
       "    <tr>\n",
       "      <th>4</th>\n",
       "      <td>2022-01-31</td>\n",
       "      <td>$2991.47</td>\n",
       "      <td>3915372</td>\n",
       "      <td>$2895</td>\n",
       "      <td>$3007.21</td>\n",
       "      <td>$2886.0101</td>\n",
       "    </tr>\n",
       "  </tbody>\n",
       "</table>\n",
       "</div>"
      ],
      "text/plain": [
       "        Date Close/Last    Volume        Open      High         Low\n",
       "0 2022-02-04   $3152.79  12672790    $3112.13     $3224    $3012.16\n",
       "1 2022-02-03   $2776.91  11276570    $2834.75  $2884.95    $2766.66\n",
       "2 2022-02-02   $3012.25   4366488  $3101.0085   $3101.5  $2977.2717\n",
       "3 2022-02-01   $3023.87   2960992       $3000  $3034.16  $2952.5548\n",
       "4 2022-01-31   $2991.47   3915372       $2895  $3007.21  $2886.0101"
      ]
     },
     "execution_count": 4,
     "metadata": {},
     "output_type": "execute_result"
    }
   ],
   "source": [
    "amazon.head()"
   ]
  },
  {
   "cell_type": "code",
   "execution_count": 5,
   "id": "66db456e-5983-4b5e-9275-9e2021bacbdf",
   "metadata": {},
   "outputs": [
    {
     "data": {
      "text/html": [
       "<div>\n",
       "<style scoped>\n",
       "    .dataframe tbody tr th:only-of-type {\n",
       "        vertical-align: middle;\n",
       "    }\n",
       "\n",
       "    .dataframe tbody tr th {\n",
       "        vertical-align: top;\n",
       "    }\n",
       "\n",
       "    .dataframe thead th {\n",
       "        text-align: right;\n",
       "    }\n",
       "</style>\n",
       "<table border=\"1\" class=\"dataframe\">\n",
       "  <thead>\n",
       "    <tr style=\"text-align: right;\">\n",
       "      <th></th>\n",
       "      <th>Date</th>\n",
       "      <th>Close/Last</th>\n",
       "      <th>Volume</th>\n",
       "      <th>Open</th>\n",
       "      <th>High</th>\n",
       "      <th>Low</th>\n",
       "    </tr>\n",
       "  </thead>\n",
       "  <tbody>\n",
       "    <tr>\n",
       "      <th>0</th>\n",
       "      <td>2022-02-04</td>\n",
       "      <td>$172.39</td>\n",
       "      <td>82465400</td>\n",
       "      <td>$171.68</td>\n",
       "      <td>$174.1</td>\n",
       "      <td>$170.68</td>\n",
       "    </tr>\n",
       "    <tr>\n",
       "      <th>1</th>\n",
       "      <td>2022-02-03</td>\n",
       "      <td>$172.9</td>\n",
       "      <td>89418070</td>\n",
       "      <td>$174.48</td>\n",
       "      <td>$176.2399</td>\n",
       "      <td>$172.12</td>\n",
       "    </tr>\n",
       "    <tr>\n",
       "      <th>2</th>\n",
       "      <td>2022-02-02</td>\n",
       "      <td>$175.84</td>\n",
       "      <td>84914260</td>\n",
       "      <td>$174.745</td>\n",
       "      <td>$175.88</td>\n",
       "      <td>$173.33</td>\n",
       "    </tr>\n",
       "    <tr>\n",
       "      <th>3</th>\n",
       "      <td>2022-02-01</td>\n",
       "      <td>$174.61</td>\n",
       "      <td>86213910</td>\n",
       "      <td>$174.01</td>\n",
       "      <td>$174.84</td>\n",
       "      <td>$172.31</td>\n",
       "    </tr>\n",
       "    <tr>\n",
       "      <th>4</th>\n",
       "      <td>2022-01-31</td>\n",
       "      <td>$174.78</td>\n",
       "      <td>115541600</td>\n",
       "      <td>$170.16</td>\n",
       "      <td>$175</td>\n",
       "      <td>$169.51</td>\n",
       "    </tr>\n",
       "  </tbody>\n",
       "</table>\n",
       "</div>"
      ],
      "text/plain": [
       "        Date Close/Last     Volume      Open       High      Low\n",
       "0 2022-02-04    $172.39   82465400   $171.68     $174.1  $170.68\n",
       "1 2022-02-03     $172.9   89418070   $174.48  $176.2399  $172.12\n",
       "2 2022-02-02    $175.84   84914260  $174.745    $175.88  $173.33\n",
       "3 2022-02-01    $174.61   86213910   $174.01    $174.84  $172.31\n",
       "4 2022-01-31    $174.78  115541600   $170.16       $175  $169.51"
      ]
     },
     "execution_count": 5,
     "metadata": {},
     "output_type": "execute_result"
    }
   ],
   "source": [
    "apple.head()"
   ]
  },
  {
   "cell_type": "code",
   "execution_count": 6,
   "id": "927bc9e6-e930-420a-b87b-781baef8b8c4",
   "metadata": {},
   "outputs": [
    {
     "data": {
      "text/html": [
       "<div>\n",
       "<style scoped>\n",
       "    .dataframe tbody tr th:only-of-type {\n",
       "        vertical-align: middle;\n",
       "    }\n",
       "\n",
       "    .dataframe tbody tr th {\n",
       "        vertical-align: top;\n",
       "    }\n",
       "\n",
       "    .dataframe thead th {\n",
       "        text-align: right;\n",
       "    }\n",
       "</style>\n",
       "<table border=\"1\" class=\"dataframe\">\n",
       "  <thead>\n",
       "    <tr style=\"text-align: right;\">\n",
       "      <th></th>\n",
       "      <th>Date</th>\n",
       "      <th>Close/Last</th>\n",
       "      <th>Volume</th>\n",
       "      <th>Open</th>\n",
       "      <th>High</th>\n",
       "      <th>Low</th>\n",
       "    </tr>\n",
       "  </thead>\n",
       "  <tbody>\n",
       "    <tr>\n",
       "      <th>0</th>\n",
       "      <td>2022-02-04</td>\n",
       "      <td>$122.22</td>\n",
       "      <td>13538230</td>\n",
       "      <td>$121.27</td>\n",
       "      <td>$123.94</td>\n",
       "      <td>$119.66</td>\n",
       "    </tr>\n",
       "    <tr>\n",
       "      <th>1</th>\n",
       "      <td>2022-02-03</td>\n",
       "      <td>$123.47</td>\n",
       "      <td>16651450</td>\n",
       "      <td>$121.55</td>\n",
       "      <td>$125.27</td>\n",
       "      <td>$120.73</td>\n",
       "    </tr>\n",
       "    <tr>\n",
       "      <th>2</th>\n",
       "      <td>2022-02-02</td>\n",
       "      <td>$122.88</td>\n",
       "      <td>14050110</td>\n",
       "      <td>$127.63</td>\n",
       "      <td>$127.63</td>\n",
       "      <td>$121.17</td>\n",
       "    </tr>\n",
       "    <tr>\n",
       "      <th>3</th>\n",
       "      <td>2022-02-01</td>\n",
       "      <td>$127.22</td>\n",
       "      <td>15036090</td>\n",
       "      <td>$124.81</td>\n",
       "      <td>$128</td>\n",
       "      <td>$122.97</td>\n",
       "    </tr>\n",
       "    <tr>\n",
       "      <th>4</th>\n",
       "      <td>2022-01-31</td>\n",
       "      <td>$125.79</td>\n",
       "      <td>20346450</td>\n",
       "      <td>$118.17</td>\n",
       "      <td>$125.87</td>\n",
       "      <td>$117.5</td>\n",
       "    </tr>\n",
       "  </tbody>\n",
       "</table>\n",
       "</div>"
      ],
      "text/plain": [
       "        Date Close/Last    Volume     Open     High      Low\n",
       "0 2022-02-04    $122.22  13538230  $121.27  $123.94  $119.66\n",
       "1 2022-02-03    $123.47  16651450  $121.55  $125.27  $120.73\n",
       "2 2022-02-02    $122.88  14050110  $127.63  $127.63  $121.17\n",
       "3 2022-02-01    $127.22  15036090  $124.81     $128  $122.97\n",
       "4 2022-01-31    $125.79  20346450  $118.17  $125.87   $117.5"
      ]
     },
     "execution_count": 6,
     "metadata": {},
     "output_type": "execute_result"
    }
   ],
   "source": [
    "baba.head()"
   ]
  },
  {
   "cell_type": "code",
   "execution_count": 7,
   "id": "59c19b5d-9326-4685-b346-16fde1372499",
   "metadata": {},
   "outputs": [
    {
     "data": {
      "text/html": [
       "<div>\n",
       "<style scoped>\n",
       "    .dataframe tbody tr th:only-of-type {\n",
       "        vertical-align: middle;\n",
       "    }\n",
       "\n",
       "    .dataframe tbody tr th {\n",
       "        vertical-align: top;\n",
       "    }\n",
       "\n",
       "    .dataframe thead th {\n",
       "        text-align: right;\n",
       "    }\n",
       "</style>\n",
       "<table border=\"1\" class=\"dataframe\">\n",
       "  <thead>\n",
       "    <tr style=\"text-align: right;\">\n",
       "      <th></th>\n",
       "      <th>Date</th>\n",
       "      <th>Close/Last</th>\n",
       "      <th>Volume</th>\n",
       "      <th>Open</th>\n",
       "      <th>High</th>\n",
       "      <th>Low</th>\n",
       "    </tr>\n",
       "  </thead>\n",
       "  <tbody>\n",
       "    <tr>\n",
       "      <th>0</th>\n",
       "      <td>2022-02-04</td>\n",
       "      <td>$923.32</td>\n",
       "      <td>24541820</td>\n",
       "      <td>$897.22</td>\n",
       "      <td>$936.5</td>\n",
       "      <td>$881.17</td>\n",
       "    </tr>\n",
       "    <tr>\n",
       "      <th>1</th>\n",
       "      <td>2022-02-03</td>\n",
       "      <td>$891.14</td>\n",
       "      <td>26285190</td>\n",
       "      <td>$882</td>\n",
       "      <td>$937</td>\n",
       "      <td>$880.52</td>\n",
       "    </tr>\n",
       "    <tr>\n",
       "      <th>2</th>\n",
       "      <td>2022-02-02</td>\n",
       "      <td>$905.66</td>\n",
       "      <td>22264350</td>\n",
       "      <td>$928.18</td>\n",
       "      <td>$931.5</td>\n",
       "      <td>$889.41</td>\n",
       "    </tr>\n",
       "    <tr>\n",
       "      <th>3</th>\n",
       "      <td>2022-02-01</td>\n",
       "      <td>$931.25</td>\n",
       "      <td>24379450</td>\n",
       "      <td>$935.21</td>\n",
       "      <td>$943.7</td>\n",
       "      <td>$905</td>\n",
       "    </tr>\n",
       "    <tr>\n",
       "      <th>4</th>\n",
       "      <td>2022-01-31</td>\n",
       "      <td>$936.72</td>\n",
       "      <td>34812030</td>\n",
       "      <td>$872.71</td>\n",
       "      <td>$937.99</td>\n",
       "      <td>$862.05</td>\n",
       "    </tr>\n",
       "  </tbody>\n",
       "</table>\n",
       "</div>"
      ],
      "text/plain": [
       "        Date Close/Last    Volume     Open     High      Low\n",
       "0 2022-02-04    $923.32  24541820  $897.22   $936.5  $881.17\n",
       "1 2022-02-03    $891.14  26285190     $882     $937  $880.52\n",
       "2 2022-02-02    $905.66  22264350  $928.18   $931.5  $889.41\n",
       "3 2022-02-01    $931.25  24379450  $935.21   $943.7     $905\n",
       "4 2022-01-31    $936.72  34812030  $872.71  $937.99  $862.05"
      ]
     },
     "execution_count": 7,
     "metadata": {},
     "output_type": "execute_result"
    }
   ],
   "source": [
    "tesla.head()"
   ]
  },
  {
   "cell_type": "code",
   "execution_count": 8,
   "id": "daeb6e3d-71f7-4ab6-9ca4-79e65806ecb0",
   "metadata": {},
   "outputs": [
    {
     "data": {
      "text/html": [
       "<div>\n",
       "<style scoped>\n",
       "    .dataframe tbody tr th:only-of-type {\n",
       "        vertical-align: middle;\n",
       "    }\n",
       "\n",
       "    .dataframe tbody tr th {\n",
       "        vertical-align: top;\n",
       "    }\n",
       "\n",
       "    .dataframe thead th {\n",
       "        text-align: right;\n",
       "    }\n",
       "</style>\n",
       "<table border=\"1\" class=\"dataframe\">\n",
       "  <thead>\n",
       "    <tr style=\"text-align: right;\">\n",
       "      <th></th>\n",
       "      <th>Date</th>\n",
       "      <th>Close/Last</th>\n",
       "      <th>Volume</th>\n",
       "      <th>Open</th>\n",
       "      <th>High</th>\n",
       "      <th>Low</th>\n",
       "    </tr>\n",
       "  </thead>\n",
       "  <tbody>\n",
       "    <tr>\n",
       "      <th>0</th>\n",
       "      <td>2022-02-04</td>\n",
       "      <td>58.70</td>\n",
       "      <td>96534410</td>\n",
       "      <td>56.870</td>\n",
       "      <td>60.4100</td>\n",
       "      <td>55.89</td>\n",
       "    </tr>\n",
       "    <tr>\n",
       "      <th>1</th>\n",
       "      <td>2022-02-03</td>\n",
       "      <td>56.74</td>\n",
       "      <td>105575000</td>\n",
       "      <td>59.320</td>\n",
       "      <td>61.0700</td>\n",
       "      <td>56.12</td>\n",
       "    </tr>\n",
       "    <tr>\n",
       "      <th>2</th>\n",
       "      <td>2022-02-02</td>\n",
       "      <td>64.50</td>\n",
       "      <td>100815200</td>\n",
       "      <td>65.220</td>\n",
       "      <td>65.3697</td>\n",
       "      <td>62.35</td>\n",
       "    </tr>\n",
       "    <tr>\n",
       "      <th>3</th>\n",
       "      <td>2022-02-01</td>\n",
       "      <td>63.01</td>\n",
       "      <td>101845800</td>\n",
       "      <td>62.420</td>\n",
       "      <td>63.3500</td>\n",
       "      <td>59.73</td>\n",
       "    </tr>\n",
       "    <tr>\n",
       "      <th>4</th>\n",
       "      <td>2022-01-31</td>\n",
       "      <td>61.83</td>\n",
       "      <td>113751100</td>\n",
       "      <td>57.045</td>\n",
       "      <td>62.0599</td>\n",
       "      <td>56.22</td>\n",
       "    </tr>\n",
       "  </tbody>\n",
       "</table>\n",
       "</div>"
      ],
      "text/plain": [
       "        Date  Close/Last     Volume    Open     High    Low\n",
       "0 2022-02-04       58.70   96534410  56.870  60.4100  55.89\n",
       "1 2022-02-03       56.74  105575000  59.320  61.0700  56.12\n",
       "2 2022-02-02       64.50  100815200  65.220  65.3697  62.35\n",
       "3 2022-02-01       63.01  101845800  62.420  63.3500  59.73\n",
       "4 2022-01-31       61.83  113751100  57.045  62.0599  56.22"
      ]
     },
     "execution_count": 8,
     "metadata": {},
     "output_type": "execute_result"
    }
   ],
   "source": [
    "tqqq.head()"
   ]
  },
  {
   "cell_type": "code",
   "execution_count": 9,
   "id": "79dba6a8-cb86-4384-8c95-d221379b08f0",
   "metadata": {},
   "outputs": [
    {
     "name": "stdout",
     "output_type": "stream",
     "text": [
      "<class 'pandas.core.frame.DataFrame'>\n",
      "RangeIndex: 1259 entries, 0 to 1258\n",
      "Data columns (total 6 columns):\n",
      " #   Column      Non-Null Count  Dtype         \n",
      "---  ------      --------------  -----         \n",
      " 0   Date        1259 non-null   datetime64[ns]\n",
      " 1   Close/Last  1259 non-null   float64       \n",
      " 2   Volume      1259 non-null   int64         \n",
      " 3   Open        1259 non-null   float64       \n",
      " 4   High        1259 non-null   float64       \n",
      " 5   Low         1259 non-null   float64       \n",
      "dtypes: datetime64[ns](1), float64(4), int64(1)\n",
      "memory usage: 59.1 KB\n"
     ]
    }
   ],
   "source": [
    "tqqq.info()"
   ]
  },
  {
   "cell_type": "markdown",
   "id": "7ccb7310-1e96-4eac-a965-128fc74b0076",
   "metadata": {},
   "source": [
    "## Wrangling and Cleaning"
   ]
  },
  {
   "cell_type": "code",
   "execution_count": 10,
   "id": "4ded196d-a608-4bf8-a685-9fc35a75f273",
   "metadata": {},
   "outputs": [],
   "source": [
    "#replace $ chars and change to float\n",
    "\n",
    "cols = ['Close/Last', 'Open', 'High', 'Low']\n",
    "\n",
    "for col in cols:\n",
    "    amazon[col] = amazon[col].str.replace('$', '').astype(float)\n",
    "    apple[col] = apple[col].str.replace('$', '').astype(float)\n",
    "    baba[col] = baba[col].str.replace('$', '').astype(float)\n",
    "    tesla[col] = tesla[col].str.replace('$', '').astype(float)"
   ]
  },
  {
   "cell_type": "code",
   "execution_count": 11,
   "id": "f2c93357-91bd-4b81-b004-dfe5d5a0d634",
   "metadata": {},
   "outputs": [
    {
     "data": {
      "text/html": [
       "<div>\n",
       "<style scoped>\n",
       "    .dataframe tbody tr th:only-of-type {\n",
       "        vertical-align: middle;\n",
       "    }\n",
       "\n",
       "    .dataframe tbody tr th {\n",
       "        vertical-align: top;\n",
       "    }\n",
       "\n",
       "    .dataframe thead th {\n",
       "        text-align: right;\n",
       "    }\n",
       "</style>\n",
       "<table border=\"1\" class=\"dataframe\">\n",
       "  <thead>\n",
       "    <tr style=\"text-align: right;\">\n",
       "      <th></th>\n",
       "      <th>Date</th>\n",
       "      <th>Close/Last</th>\n",
       "      <th>Volume</th>\n",
       "      <th>Open</th>\n",
       "      <th>High</th>\n",
       "      <th>Low</th>\n",
       "    </tr>\n",
       "  </thead>\n",
       "  <tbody>\n",
       "    <tr>\n",
       "      <th>0</th>\n",
       "      <td>2022-02-04</td>\n",
       "      <td>3152.79</td>\n",
       "      <td>12672790</td>\n",
       "      <td>3112.1300</td>\n",
       "      <td>3224.00</td>\n",
       "      <td>3012.1600</td>\n",
       "    </tr>\n",
       "    <tr>\n",
       "      <th>1</th>\n",
       "      <td>2022-02-03</td>\n",
       "      <td>2776.91</td>\n",
       "      <td>11276570</td>\n",
       "      <td>2834.7500</td>\n",
       "      <td>2884.95</td>\n",
       "      <td>2766.6600</td>\n",
       "    </tr>\n",
       "    <tr>\n",
       "      <th>2</th>\n",
       "      <td>2022-02-02</td>\n",
       "      <td>3012.25</td>\n",
       "      <td>4366488</td>\n",
       "      <td>3101.0085</td>\n",
       "      <td>3101.50</td>\n",
       "      <td>2977.2717</td>\n",
       "    </tr>\n",
       "    <tr>\n",
       "      <th>3</th>\n",
       "      <td>2022-02-01</td>\n",
       "      <td>3023.87</td>\n",
       "      <td>2960992</td>\n",
       "      <td>3000.0000</td>\n",
       "      <td>3034.16</td>\n",
       "      <td>2952.5548</td>\n",
       "    </tr>\n",
       "    <tr>\n",
       "      <th>4</th>\n",
       "      <td>2022-01-31</td>\n",
       "      <td>2991.47</td>\n",
       "      <td>3915372</td>\n",
       "      <td>2895.0000</td>\n",
       "      <td>3007.21</td>\n",
       "      <td>2886.0101</td>\n",
       "    </tr>\n",
       "  </tbody>\n",
       "</table>\n",
       "</div>"
      ],
      "text/plain": [
       "        Date  Close/Last    Volume       Open     High        Low\n",
       "0 2022-02-04     3152.79  12672790  3112.1300  3224.00  3012.1600\n",
       "1 2022-02-03     2776.91  11276570  2834.7500  2884.95  2766.6600\n",
       "2 2022-02-02     3012.25   4366488  3101.0085  3101.50  2977.2717\n",
       "3 2022-02-01     3023.87   2960992  3000.0000  3034.16  2952.5548\n",
       "4 2022-01-31     2991.47   3915372  2895.0000  3007.21  2886.0101"
      ]
     },
     "execution_count": 11,
     "metadata": {},
     "output_type": "execute_result"
    }
   ],
   "source": [
    "amazon.head()"
   ]
  },
  {
   "cell_type": "code",
   "execution_count": 12,
   "id": "02bfc150-a1c5-449e-b647-9dfd5e96f067",
   "metadata": {},
   "outputs": [
    {
     "data": {
      "text/html": [
       "<div>\n",
       "<style scoped>\n",
       "    .dataframe tbody tr th:only-of-type {\n",
       "        vertical-align: middle;\n",
       "    }\n",
       "\n",
       "    .dataframe tbody tr th {\n",
       "        vertical-align: top;\n",
       "    }\n",
       "\n",
       "    .dataframe thead th {\n",
       "        text-align: right;\n",
       "    }\n",
       "</style>\n",
       "<table border=\"1\" class=\"dataframe\">\n",
       "  <thead>\n",
       "    <tr style=\"text-align: right;\">\n",
       "      <th></th>\n",
       "      <th>Date</th>\n",
       "      <th>Close/Last</th>\n",
       "      <th>Volume</th>\n",
       "      <th>Open</th>\n",
       "      <th>High</th>\n",
       "      <th>Low</th>\n",
       "    </tr>\n",
       "  </thead>\n",
       "  <tbody>\n",
       "    <tr>\n",
       "      <th>0</th>\n",
       "      <td>2022-02-04</td>\n",
       "      <td>172.39</td>\n",
       "      <td>82465400</td>\n",
       "      <td>171.680</td>\n",
       "      <td>174.1000</td>\n",
       "      <td>170.68</td>\n",
       "    </tr>\n",
       "    <tr>\n",
       "      <th>1</th>\n",
       "      <td>2022-02-03</td>\n",
       "      <td>172.90</td>\n",
       "      <td>89418070</td>\n",
       "      <td>174.480</td>\n",
       "      <td>176.2399</td>\n",
       "      <td>172.12</td>\n",
       "    </tr>\n",
       "    <tr>\n",
       "      <th>2</th>\n",
       "      <td>2022-02-02</td>\n",
       "      <td>175.84</td>\n",
       "      <td>84914260</td>\n",
       "      <td>174.745</td>\n",
       "      <td>175.8800</td>\n",
       "      <td>173.33</td>\n",
       "    </tr>\n",
       "    <tr>\n",
       "      <th>3</th>\n",
       "      <td>2022-02-01</td>\n",
       "      <td>174.61</td>\n",
       "      <td>86213910</td>\n",
       "      <td>174.010</td>\n",
       "      <td>174.8400</td>\n",
       "      <td>172.31</td>\n",
       "    </tr>\n",
       "    <tr>\n",
       "      <th>4</th>\n",
       "      <td>2022-01-31</td>\n",
       "      <td>174.78</td>\n",
       "      <td>115541600</td>\n",
       "      <td>170.160</td>\n",
       "      <td>175.0000</td>\n",
       "      <td>169.51</td>\n",
       "    </tr>\n",
       "  </tbody>\n",
       "</table>\n",
       "</div>"
      ],
      "text/plain": [
       "        Date  Close/Last     Volume     Open      High     Low\n",
       "0 2022-02-04      172.39   82465400  171.680  174.1000  170.68\n",
       "1 2022-02-03      172.90   89418070  174.480  176.2399  172.12\n",
       "2 2022-02-02      175.84   84914260  174.745  175.8800  173.33\n",
       "3 2022-02-01      174.61   86213910  174.010  174.8400  172.31\n",
       "4 2022-01-31      174.78  115541600  170.160  175.0000  169.51"
      ]
     },
     "execution_count": 12,
     "metadata": {},
     "output_type": "execute_result"
    }
   ],
   "source": [
    "apple.head()"
   ]
  },
  {
   "cell_type": "code",
   "execution_count": 13,
   "id": "4003273d-d22d-4015-ae18-90b71d5f7552",
   "metadata": {},
   "outputs": [
    {
     "data": {
      "text/html": [
       "<div>\n",
       "<style scoped>\n",
       "    .dataframe tbody tr th:only-of-type {\n",
       "        vertical-align: middle;\n",
       "    }\n",
       "\n",
       "    .dataframe tbody tr th {\n",
       "        vertical-align: top;\n",
       "    }\n",
       "\n",
       "    .dataframe thead th {\n",
       "        text-align: right;\n",
       "    }\n",
       "</style>\n",
       "<table border=\"1\" class=\"dataframe\">\n",
       "  <thead>\n",
       "    <tr style=\"text-align: right;\">\n",
       "      <th></th>\n",
       "      <th>Date</th>\n",
       "      <th>Close/Last</th>\n",
       "      <th>Volume</th>\n",
       "      <th>Open</th>\n",
       "      <th>High</th>\n",
       "      <th>Low</th>\n",
       "    </tr>\n",
       "  </thead>\n",
       "  <tbody>\n",
       "    <tr>\n",
       "      <th>0</th>\n",
       "      <td>2022-02-04</td>\n",
       "      <td>122.22</td>\n",
       "      <td>13538230</td>\n",
       "      <td>121.27</td>\n",
       "      <td>123.94</td>\n",
       "      <td>119.66</td>\n",
       "    </tr>\n",
       "    <tr>\n",
       "      <th>1</th>\n",
       "      <td>2022-02-03</td>\n",
       "      <td>123.47</td>\n",
       "      <td>16651450</td>\n",
       "      <td>121.55</td>\n",
       "      <td>125.27</td>\n",
       "      <td>120.73</td>\n",
       "    </tr>\n",
       "    <tr>\n",
       "      <th>2</th>\n",
       "      <td>2022-02-02</td>\n",
       "      <td>122.88</td>\n",
       "      <td>14050110</td>\n",
       "      <td>127.63</td>\n",
       "      <td>127.63</td>\n",
       "      <td>121.17</td>\n",
       "    </tr>\n",
       "    <tr>\n",
       "      <th>3</th>\n",
       "      <td>2022-02-01</td>\n",
       "      <td>127.22</td>\n",
       "      <td>15036090</td>\n",
       "      <td>124.81</td>\n",
       "      <td>128.00</td>\n",
       "      <td>122.97</td>\n",
       "    </tr>\n",
       "    <tr>\n",
       "      <th>4</th>\n",
       "      <td>2022-01-31</td>\n",
       "      <td>125.79</td>\n",
       "      <td>20346450</td>\n",
       "      <td>118.17</td>\n",
       "      <td>125.87</td>\n",
       "      <td>117.50</td>\n",
       "    </tr>\n",
       "  </tbody>\n",
       "</table>\n",
       "</div>"
      ],
      "text/plain": [
       "        Date  Close/Last    Volume    Open    High     Low\n",
       "0 2022-02-04      122.22  13538230  121.27  123.94  119.66\n",
       "1 2022-02-03      123.47  16651450  121.55  125.27  120.73\n",
       "2 2022-02-02      122.88  14050110  127.63  127.63  121.17\n",
       "3 2022-02-01      127.22  15036090  124.81  128.00  122.97\n",
       "4 2022-01-31      125.79  20346450  118.17  125.87  117.50"
      ]
     },
     "execution_count": 13,
     "metadata": {},
     "output_type": "execute_result"
    }
   ],
   "source": [
    "baba.head()"
   ]
  },
  {
   "cell_type": "code",
   "execution_count": 14,
   "id": "55450c5e-8467-4a42-95ce-6db9884eaee3",
   "metadata": {},
   "outputs": [
    {
     "data": {
      "text/html": [
       "<div>\n",
       "<style scoped>\n",
       "    .dataframe tbody tr th:only-of-type {\n",
       "        vertical-align: middle;\n",
       "    }\n",
       "\n",
       "    .dataframe tbody tr th {\n",
       "        vertical-align: top;\n",
       "    }\n",
       "\n",
       "    .dataframe thead th {\n",
       "        text-align: right;\n",
       "    }\n",
       "</style>\n",
       "<table border=\"1\" class=\"dataframe\">\n",
       "  <thead>\n",
       "    <tr style=\"text-align: right;\">\n",
       "      <th></th>\n",
       "      <th>Date</th>\n",
       "      <th>Close/Last</th>\n",
       "      <th>Volume</th>\n",
       "      <th>Open</th>\n",
       "      <th>High</th>\n",
       "      <th>Low</th>\n",
       "    </tr>\n",
       "  </thead>\n",
       "  <tbody>\n",
       "    <tr>\n",
       "      <th>0</th>\n",
       "      <td>2022-02-04</td>\n",
       "      <td>923.32</td>\n",
       "      <td>24541820</td>\n",
       "      <td>897.22</td>\n",
       "      <td>936.50</td>\n",
       "      <td>881.17</td>\n",
       "    </tr>\n",
       "    <tr>\n",
       "      <th>1</th>\n",
       "      <td>2022-02-03</td>\n",
       "      <td>891.14</td>\n",
       "      <td>26285190</td>\n",
       "      <td>882.00</td>\n",
       "      <td>937.00</td>\n",
       "      <td>880.52</td>\n",
       "    </tr>\n",
       "    <tr>\n",
       "      <th>2</th>\n",
       "      <td>2022-02-02</td>\n",
       "      <td>905.66</td>\n",
       "      <td>22264350</td>\n",
       "      <td>928.18</td>\n",
       "      <td>931.50</td>\n",
       "      <td>889.41</td>\n",
       "    </tr>\n",
       "    <tr>\n",
       "      <th>3</th>\n",
       "      <td>2022-02-01</td>\n",
       "      <td>931.25</td>\n",
       "      <td>24379450</td>\n",
       "      <td>935.21</td>\n",
       "      <td>943.70</td>\n",
       "      <td>905.00</td>\n",
       "    </tr>\n",
       "    <tr>\n",
       "      <th>4</th>\n",
       "      <td>2022-01-31</td>\n",
       "      <td>936.72</td>\n",
       "      <td>34812030</td>\n",
       "      <td>872.71</td>\n",
       "      <td>937.99</td>\n",
       "      <td>862.05</td>\n",
       "    </tr>\n",
       "  </tbody>\n",
       "</table>\n",
       "</div>"
      ],
      "text/plain": [
       "        Date  Close/Last    Volume    Open    High     Low\n",
       "0 2022-02-04      923.32  24541820  897.22  936.50  881.17\n",
       "1 2022-02-03      891.14  26285190  882.00  937.00  880.52\n",
       "2 2022-02-02      905.66  22264350  928.18  931.50  889.41\n",
       "3 2022-02-01      931.25  24379450  935.21  943.70  905.00\n",
       "4 2022-01-31      936.72  34812030  872.71  937.99  862.05"
      ]
     },
     "execution_count": 14,
     "metadata": {},
     "output_type": "execute_result"
    }
   ],
   "source": [
    "tesla.head()"
   ]
  },
  {
   "cell_type": "code",
   "execution_count": 15,
   "id": "dcd1612c-7131-488f-bed4-73dd363a5dd9",
   "metadata": {},
   "outputs": [
    {
     "data": {
      "text/plain": [
       "Date          datetime64[ns]\n",
       "Close/Last           float64\n",
       "Volume                 int64\n",
       "Open                 float64\n",
       "High                 float64\n",
       "Low                  float64\n",
       "dtype: object"
      ]
     },
     "metadata": {},
     "output_type": "display_data"
    },
    {
     "data": {
      "text/plain": [
       "Date          datetime64[ns]\n",
       "Close/Last           float64\n",
       "Volume                 int64\n",
       "Open                 float64\n",
       "High                 float64\n",
       "Low                  float64\n",
       "dtype: object"
      ]
     },
     "metadata": {},
     "output_type": "display_data"
    },
    {
     "data": {
      "text/plain": [
       "Date          datetime64[ns]\n",
       "Close/Last           float64\n",
       "Volume                 int64\n",
       "Open                 float64\n",
       "High                 float64\n",
       "Low                  float64\n",
       "dtype: object"
      ]
     },
     "metadata": {},
     "output_type": "display_data"
    },
    {
     "data": {
      "text/plain": [
       "Date          datetime64[ns]\n",
       "Close/Last           float64\n",
       "Volume                 int64\n",
       "Open                 float64\n",
       "High                 float64\n",
       "Low                  float64\n",
       "dtype: object"
      ]
     },
     "metadata": {},
     "output_type": "display_data"
    },
    {
     "data": {
      "text/plain": [
       "Date          datetime64[ns]\n",
       "Close/Last           float64\n",
       "Volume                 int64\n",
       "Open                 float64\n",
       "High                 float64\n",
       "Low                  float64\n",
       "dtype: object"
      ]
     },
     "metadata": {},
     "output_type": "display_data"
    }
   ],
   "source": [
    "display(amazon.dtypes)\n",
    "display(apple.dtypes)\n",
    "display(baba.dtypes)\n",
    "display(tesla.dtypes)\n",
    "display(tqqq.dtypes)"
   ]
  },
  {
   "cell_type": "markdown",
   "id": "90e8453f-6fd3-46dd-8408-97688ed20319",
   "metadata": {},
   "source": [
    "### check the null values"
   ]
  },
  {
   "cell_type": "code",
   "execution_count": 16,
   "id": "22ccbe5a-8dad-4fa2-9780-bda1244d6d2a",
   "metadata": {},
   "outputs": [
    {
     "data": {
      "text/plain": [
       "Date          False\n",
       "Close/Last    False\n",
       "Volume        False\n",
       "Open          False\n",
       "High          False\n",
       "Low           False\n",
       "dtype: bool"
      ]
     },
     "metadata": {},
     "output_type": "display_data"
    },
    {
     "data": {
      "text/plain": [
       "Date          False\n",
       "Close/Last    False\n",
       "Volume        False\n",
       "Open          False\n",
       "High          False\n",
       "Low           False\n",
       "dtype: bool"
      ]
     },
     "metadata": {},
     "output_type": "display_data"
    },
    {
     "data": {
      "text/plain": [
       "Date          False\n",
       "Close/Last    False\n",
       "Volume        False\n",
       "Open          False\n",
       "High          False\n",
       "Low           False\n",
       "dtype: bool"
      ]
     },
     "metadata": {},
     "output_type": "display_data"
    },
    {
     "data": {
      "text/plain": [
       "Date          False\n",
       "Close/Last    False\n",
       "Volume        False\n",
       "Open          False\n",
       "High          False\n",
       "Low           False\n",
       "dtype: bool"
      ]
     },
     "metadata": {},
     "output_type": "display_data"
    },
    {
     "data": {
      "text/plain": [
       "Date          False\n",
       "Close/Last    False\n",
       "Volume        False\n",
       "Open          False\n",
       "High          False\n",
       "Low           False\n",
       "dtype: bool"
      ]
     },
     "metadata": {},
     "output_type": "display_data"
    }
   ],
   "source": [
    "display(amazon.isnull().any())\n",
    "display(apple.isnull().any())\n",
    "display(baba.isnull().any())\n",
    "display(tesla.isnull().any())\n",
    "display(tqqq.isnull().any())"
   ]
  },
  {
   "cell_type": "markdown",
   "id": "dfc9ca02-a06e-479d-ace5-a4d40ce6d431",
   "metadata": {},
   "source": [
    "### Creating df portfolio"
   ]
  },
  {
   "cell_type": "code",
   "execution_count": 17,
   "id": "a0e02e74-cbb0-415a-ad6f-ad6b1fa4c454",
   "metadata": {},
   "outputs": [],
   "source": [
    "amazon.set_index(['Date'], inplace = True)\n",
    "apple.set_index(['Date'], inplace = True)\n",
    "baba.set_index(['Date'], inplace = True)\n",
    "tesla.set_index(['Date'], inplace = True)\n",
    "tqqq.set_index(['Date'], inplace = True)"
   ]
  },
  {
   "cell_type": "code",
   "execution_count": 18,
   "id": "788d82bf-163d-4b21-9bd3-19715ddf8b59",
   "metadata": {},
   "outputs": [
    {
     "data": {
      "text/html": [
       "<div>\n",
       "<style scoped>\n",
       "    .dataframe tbody tr th:only-of-type {\n",
       "        vertical-align: middle;\n",
       "    }\n",
       "\n",
       "    .dataframe tbody tr th {\n",
       "        vertical-align: top;\n",
       "    }\n",
       "\n",
       "    .dataframe thead th {\n",
       "        text-align: right;\n",
       "    }\n",
       "</style>\n",
       "<table border=\"1\" class=\"dataframe\">\n",
       "  <thead>\n",
       "    <tr style=\"text-align: right;\">\n",
       "      <th></th>\n",
       "      <th>Close/Last</th>\n",
       "      <th>Volume</th>\n",
       "      <th>Open</th>\n",
       "      <th>High</th>\n",
       "      <th>Low</th>\n",
       "    </tr>\n",
       "    <tr>\n",
       "      <th>Date</th>\n",
       "      <th></th>\n",
       "      <th></th>\n",
       "      <th></th>\n",
       "      <th></th>\n",
       "      <th></th>\n",
       "    </tr>\n",
       "  </thead>\n",
       "  <tbody>\n",
       "    <tr>\n",
       "      <th>2022-02-04</th>\n",
       "      <td>3152.79</td>\n",
       "      <td>12672790</td>\n",
       "      <td>3112.1300</td>\n",
       "      <td>3224.00</td>\n",
       "      <td>3012.1600</td>\n",
       "    </tr>\n",
       "    <tr>\n",
       "      <th>2022-02-03</th>\n",
       "      <td>2776.91</td>\n",
       "      <td>11276570</td>\n",
       "      <td>2834.7500</td>\n",
       "      <td>2884.95</td>\n",
       "      <td>2766.6600</td>\n",
       "    </tr>\n",
       "    <tr>\n",
       "      <th>2022-02-02</th>\n",
       "      <td>3012.25</td>\n",
       "      <td>4366488</td>\n",
       "      <td>3101.0085</td>\n",
       "      <td>3101.50</td>\n",
       "      <td>2977.2717</td>\n",
       "    </tr>\n",
       "    <tr>\n",
       "      <th>2022-02-01</th>\n",
       "      <td>3023.87</td>\n",
       "      <td>2960992</td>\n",
       "      <td>3000.0000</td>\n",
       "      <td>3034.16</td>\n",
       "      <td>2952.5548</td>\n",
       "    </tr>\n",
       "    <tr>\n",
       "      <th>2022-01-31</th>\n",
       "      <td>2991.47</td>\n",
       "      <td>3915372</td>\n",
       "      <td>2895.0000</td>\n",
       "      <td>3007.21</td>\n",
       "      <td>2886.0101</td>\n",
       "    </tr>\n",
       "  </tbody>\n",
       "</table>\n",
       "</div>"
      ],
      "text/plain": [
       "            Close/Last    Volume       Open     High        Low\n",
       "Date                                                           \n",
       "2022-02-04     3152.79  12672790  3112.1300  3224.00  3012.1600\n",
       "2022-02-03     2776.91  11276570  2834.7500  2884.95  2766.6600\n",
       "2022-02-02     3012.25   4366488  3101.0085  3101.50  2977.2717\n",
       "2022-02-01     3023.87   2960992  3000.0000  3034.16  2952.5548\n",
       "2022-01-31     2991.47   3915372  2895.0000  3007.21  2886.0101"
      ]
     },
     "execution_count": 18,
     "metadata": {},
     "output_type": "execute_result"
    }
   ],
   "source": [
    "amazon.head()"
   ]
  },
  {
   "cell_type": "code",
   "execution_count": 19,
   "id": "3379b79a-8d5d-42ed-91ae-c941369956b1",
   "metadata": {},
   "outputs": [],
   "source": [
    "amazon_copy = amazon[['Close/Last']].rename(columns = {'Close/Last': 'Amazon'})\n",
    "apple_copy = apple[['Close/Last']].rename(columns = {'Close/Last': 'Apple'})\n",
    "baba_copy = baba[['Close/Last']].rename(columns = {'Close/Last': 'Alibaba'})\n",
    "tesla_copy = tesla[['Close/Last']].rename(columns = {'Close/Last': 'Tesla'})\n",
    "tqqq_copy = tqqq[['Close/Last']].rename(columns = {'Close/Last': 'TQQQ'})"
   ]
  },
  {
   "cell_type": "code",
   "execution_count": 20,
   "id": "eb03fd1f-65c3-4a8c-bfc3-45eff84f290f",
   "metadata": {},
   "outputs": [
    {
     "data": {
      "text/html": [
       "<div>\n",
       "<style scoped>\n",
       "    .dataframe tbody tr th:only-of-type {\n",
       "        vertical-align: middle;\n",
       "    }\n",
       "\n",
       "    .dataframe tbody tr th {\n",
       "        vertical-align: top;\n",
       "    }\n",
       "\n",
       "    .dataframe thead th {\n",
       "        text-align: right;\n",
       "    }\n",
       "</style>\n",
       "<table border=\"1\" class=\"dataframe\">\n",
       "  <thead>\n",
       "    <tr style=\"text-align: right;\">\n",
       "      <th></th>\n",
       "      <th>Amazon</th>\n",
       "      <th>Apple</th>\n",
       "      <th>Alibaba</th>\n",
       "      <th>Tesla</th>\n",
       "      <th>TQQQ</th>\n",
       "    </tr>\n",
       "    <tr>\n",
       "      <th>Date</th>\n",
       "      <th></th>\n",
       "      <th></th>\n",
       "      <th></th>\n",
       "      <th></th>\n",
       "      <th></th>\n",
       "    </tr>\n",
       "  </thead>\n",
       "  <tbody>\n",
       "    <tr>\n",
       "      <th>2022-02-04</th>\n",
       "      <td>3152.79</td>\n",
       "      <td>172.39</td>\n",
       "      <td>122.22</td>\n",
       "      <td>923.32</td>\n",
       "      <td>58.70</td>\n",
       "    </tr>\n",
       "    <tr>\n",
       "      <th>2022-02-03</th>\n",
       "      <td>2776.91</td>\n",
       "      <td>172.90</td>\n",
       "      <td>123.47</td>\n",
       "      <td>891.14</td>\n",
       "      <td>56.74</td>\n",
       "    </tr>\n",
       "    <tr>\n",
       "      <th>2022-02-02</th>\n",
       "      <td>3012.25</td>\n",
       "      <td>175.84</td>\n",
       "      <td>122.88</td>\n",
       "      <td>905.66</td>\n",
       "      <td>64.50</td>\n",
       "    </tr>\n",
       "    <tr>\n",
       "      <th>2022-02-01</th>\n",
       "      <td>3023.87</td>\n",
       "      <td>174.61</td>\n",
       "      <td>127.22</td>\n",
       "      <td>931.25</td>\n",
       "      <td>63.01</td>\n",
       "    </tr>\n",
       "    <tr>\n",
       "      <th>2022-01-31</th>\n",
       "      <td>2991.47</td>\n",
       "      <td>174.78</td>\n",
       "      <td>125.79</td>\n",
       "      <td>936.72</td>\n",
       "      <td>61.83</td>\n",
       "    </tr>\n",
       "  </tbody>\n",
       "</table>\n",
       "</div>"
      ],
      "text/plain": [
       "             Amazon   Apple  Alibaba   Tesla   TQQQ\n",
       "Date                                               \n",
       "2022-02-04  3152.79  172.39   122.22  923.32  58.70\n",
       "2022-02-03  2776.91  172.90   123.47  891.14  56.74\n",
       "2022-02-02  3012.25  175.84   122.88  905.66  64.50\n",
       "2022-02-01  3023.87  174.61   127.22  931.25  63.01\n",
       "2022-01-31  2991.47  174.78   125.79  936.72  61.83"
      ]
     },
     "execution_count": 20,
     "metadata": {},
     "output_type": "execute_result"
    }
   ],
   "source": [
    "prices =pd.concat([amazon_copy,apple_copy,baba_copy,tesla_copy,tqqq_copy], axis = 1)\n",
    "prices.head()"
   ]
  },
  {
   "cell_type": "code",
   "execution_count": 21,
   "id": "20312826-ffc6-4adc-894f-ae8dbe255508",
   "metadata": {},
   "outputs": [
    {
     "name": "stdout",
     "output_type": "stream",
     "text": [
      "Data Inicio 2017-02-07 00:00:00\n",
      "Data Fim 2022-02-04 00:00:00\n"
     ]
    }
   ],
   "source": [
    "print('Data Inicio', prices.index.min())\n",
    "print('Data Fim', prices.index.max())"
   ]
  },
  {
   "cell_type": "markdown",
   "id": "55e32718-1c2c-461d-80d6-8c2e5d91c8a0",
   "metadata": {},
   "source": [
    "---"
   ]
  },
  {
   "cell_type": "code",
   "execution_count": 22,
   "id": "f7ca6472-1a29-4c1b-bd7d-bbc4bc0085e6",
   "metadata": {},
   "outputs": [
    {
     "data": {
      "image/png": "[encoded data removed]",
      "text/plain": [
       "<Figure size 432x288 with 1 Axes>"
      ]
     },
     "metadata": {
      "needs_background": "light"
     },
     "output_type": "display_data"
    },
    {
     "data": {
      "text/plain": [
       "<Figure size 864x576 with 0 Axes>"
      ]
     },
     "metadata": {},
     "output_type": "display_data"
    }
   ],
   "source": [
    "#plot \n",
    "prices.plot().set_ylabel(\"Closing Prices, USD\")\n",
    "plt.figure(figsize = (12,8))\n",
    "plt.show()"
   ]
  },
  {
   "cell_type": "markdown",
   "id": "9af66848-9c61-4a94-a8d6-98b6b02d80c0",
   "metadata": {},
   "source": [
    "# Frontier Efficient (MPT)"
   ]
  },
  {
   "cell_type": "markdown",
   "id": "05a94232-21b8-403c-8a39-8d94c53e053c",
   "metadata": {},
   "source": [
    "### Step 1 - Historical Returns"
   ]
  },
  {
   "cell_type": "code",
   "execution_count": 23,
   "id": "25cf1fe3-cf3b-4c8e-aaaa-d06b1d4bb894",
   "metadata": {},
   "outputs": [
    {
     "data": {
      "text/plain": [
       "Amazon    -0.237854\n",
       "Apple     -0.282434\n",
       "Alibaba   -0.037805\n",
       "Tesla     -0.439100\n",
       "TQQQ      -0.358894\n",
       "dtype: float64"
      ]
     },
     "execution_count": 23,
     "metadata": {},
     "output_type": "execute_result"
    }
   ],
   "source": [
    "#  mean historical return\n",
    "mu = expected_returns.mean_historical_return(prices)\n",
    "mu"
   ]
  },
  {
   "cell_type": "code",
   "execution_count": 24,
   "id": "2850008f-eaca-482b-9bbe-0682b4f062e0",
   "metadata": {},
   "outputs": [
    {
     "data": {
      "image/png": "[encoded data removed]",
      "text/plain": [
       "<Figure size 432x288 with 1 Axes>"
      ]
     },
     "metadata": {
      "needs_background": "light"
     },
     "output_type": "display_data"
    }
   ],
   "source": [
    "# Plot the annualized average historical return\n",
    "plt.plot(mu, linestyle = 'None', marker = 'o')\n",
    "plt.show()"
   ]
  },
  {
   "cell_type": "markdown",
   "id": "36484905-899a-464a-8516-1292b32b7207",
   "metadata": {},
   "source": [
    "### Step 2 - Covariance"
   ]
  },
  {
   "cell_type": "code",
   "execution_count": 25,
   "id": "6ad489b2-2ae2-4b5f-af72-74a6dd2e4686",
   "metadata": {},
   "outputs": [
    {
     "name": "stdout",
     "output_type": "stream",
     "text": [
      "Efficient Covariance Matrix \n",
      "            Amazon     Apple   Alibaba     Tesla      TQQQ\n",
      "Amazon   0.095213  0.057447  0.049981  0.068693  0.160821\n",
      "Apple    0.057447  0.097801  0.047768  0.079368  0.179415\n",
      "Alibaba  0.049981  0.047768  0.139274  0.067222  0.133694\n",
      "Tesla    0.068693  0.079368  0.067222  0.372809  0.227001\n",
      "TQQQ     0.160821  0.179415  0.133694  0.227001  0.493606\n"
     ]
    }
   ],
   "source": [
    "#instace covariance object\n",
    "S = CovarianceShrinkage(prices).ledoit_wolf()\n",
    "\n",
    "print(\"Efficient Covariance Matrix \\n\", S)"
   ]
  },
  {
   "cell_type": "code",
   "execution_count": 26,
   "id": "661abf07-8006-4e3c-9341-fec59518cec6",
   "metadata": {},
   "outputs": [
    {
     "name": "stdout",
     "output_type": "stream",
     "text": [
      "Covariance between daily simple returns of stocks in your portfolio\n",
      "\n"
     ]
    },
    {
     "data": {
      "image/png": "[encoded data removed]",
      "text/plain": [
       "<Figure size 864x576 with 2 Axes>"
      ]
     },
     "metadata": {},
     "output_type": "display_data"
    }
   ],
   "source": [
    "plt.style.use('ggplot')\n",
    "fig = plt.figure(figsize = (12,8))\n",
    "ax = sb.heatmap(S,xticklabels=S.columns, yticklabels=S.columns,\n",
    "cmap='RdBu_r', annot=True, linewidth=0.5)\n",
    "ax.set_title('Covariance Matrix')\n",
    "print('Covariance between daily simple returns of stocks in your portfolio\\n')\n",
    "plt.show()"
   ]
  },
  {
   "cell_type": "markdown",
   "id": "f07d116a-9e0c-47fd-896b-420ad688e5f7",
   "metadata": {},
   "source": [
    "### Step 3 - Critical Line Algorithm"
   ]
  },
  {
   "cell_type": "markdown",
   "id": "04f1ef36-23af-483e-b4e5-4aeac275af11",
   "metadata": {},
   "source": [
    "Disclaimer from <a href = 'https://pyportfolioopt.readthedocs.io/en/latest/OtherOptimizers.html?highlight=CLA#the-critical-line-algorithm'>documentation</a>:\n",
    "\n",
    "\"This is a robust alternative to the quadratic solver used to find mean-variance optimal portfolios, that is especially advantageous when we apply linear inequalities. Unlike generic convex optimization routines, the CLA is specially designed for portfolio optimization. It is guaranteed to converge after a certain number of iterations, and can efficiently derive the entire efficient frontier.\"\n",
    "\n",
    "<img src = 'https://pyportfolioopt.readthedocs.io/en/latest/_images/cla_plot.png'>"
   ]
  },
  {
   "cell_type": "code",
   "execution_count": 27,
   "id": "928e3f75-afe8-4d23-a620-89b533a1cfa8",
   "metadata": {},
   "outputs": [
    {
     "data": {
      "text/plain": [
       "OrderedDict([('Amazon', 0.38744004702711976),\n",
       "             ('Apple', 0.3755867185838433),\n",
       "             ('Alibaba', 0.23697323438903697),\n",
       "             ('Tesla', 0.0),\n",
       "             ('TQQQ', 0.0)])"
      ]
     },
     "execution_count": 27,
     "metadata": {},
     "output_type": "execute_result"
    }
   ],
   "source": [
    "# CLA object\n",
    "\n",
    "ep = CLA(mu, S)\n",
    "\n",
    "# Minimum volatility\n",
    "ep.min_volatility()"
   ]
  },
  {
   "cell_type": "code",
   "execution_count": 28,
   "id": "99deb0b9-2492-4fe7-81fb-5f97221f1dc4",
   "metadata": {},
   "outputs": [
    {
     "name": "stdout",
     "output_type": "stream",
     "text": [
      "OrderedDict([('Amazon', 1.0), ('Apple', 1.0), ('Alibaba', 1.0), ('Tesla', -1.0), ('TQQQ', -1.0)])\n"
     ]
    }
   ],
   "source": [
    "# Compute the efficient frontier\n",
    "ef = EfficientFrontier(mu, S, weight_bounds=(-1,1))\n",
    "weights = ef.max_sharpe()\n",
    "\n",
    "cleaned_weights = ef.clean_weights()\n",
    "#ef.save_weights_to_file(\"weights.txt\")  # saves to file\n",
    "print(cleaned_weights)"
   ]
  },
  {
   "cell_type": "code",
   "execution_count": 29,
   "id": "c813744d-6d8f-4f8c-a361-98b813f7a6ed",
   "metadata": {},
   "outputs": [
    {
     "name": "stdout",
     "output_type": "stream",
     "text": [
      "Expected annual return: 24.0%\n",
      "Annual volatility: 76.5%\n",
      "Sharpe Ratio: 0.29\n"
     ]
    },
    {
     "data": {
      "text/plain": [
       "(0.2399003261713264, 0.7646383771079874, 0.2875873520801201)"
      ]
     },
     "execution_count": 29,
     "metadata": {},
     "output_type": "execute_result"
    }
   ],
   "source": [
    "ef.portfolio_performance(verbose=True)"
   ]
  },
  {
   "cell_type": "code",
   "execution_count": 30,
   "id": "9324d45b-4899-4df6-ad5a-66a1df41480a",
   "metadata": {},
   "outputs": [
    {
     "data": {
      "image/png": "[encoded data removed]",
      "text/plain": [
       "<Figure size 432x288 with 1 Axes>"
      ]
     },
     "metadata": {},
     "output_type": "display_data"
    }
   ],
   "source": [
    "ax = pplt.plot_efficient_frontier(ep, showfig = False)\n",
    "#ax.xaxis.set_major_formatter(FuncFormatter(lambda x, _: '{:.0%}'.format(x)))\n",
    "#ax.yaxis.set_major_formatter(FuncFormatter(lambda y, _: '{:.0%}'.format(y)))"
   ]
  },
  {
   "cell_type": "code",
   "execution_count": 31,
   "id": "12f0a433-ba36-4843-88ab-f87064a8397d",
   "metadata": {},
   "outputs": [
    {
     "name": "stdin",
     "output_type": "stream",
     "text": [
      "Enter the amount you want to invest:  1000\n"
     ]
    },
    {
     "name": "stdout",
     "output_type": "stream",
     "text": [
      "Number of stocks to buy with the amount of $ 1000.0\n",
      "          Ticker  Number of stocks to buy\n",
      "Apple      Apple                       18\n",
      "Alibaba  Alibaba                        4\n",
      "Tesla      Tesla                      -19\n",
      "TQQQ        TQQQ                     -157\n",
      "Funds remaining with you will be: $ 24\n"
     ]
    }
   ],
   "source": [
    "#function to money allocation\n",
    "\n",
    "portfolio_amount = float(input(\"Enter the amount you want to invest: \"))\n",
    "if portfolio_amount != '' :\n",
    "    # Get discrete allocation of each share per stock\n",
    "\n",
    "    latest_prices = get_latest_prices(prices)\n",
    "    weights = cleaned_weights\n",
    "    discrete_allocation = DiscreteAllocation(cleaned_weights, latest_prices , total_portfolio_value = int(portfolio_amount))\n",
    "    allocation , leftover = discrete_allocation.lp_portfolio()\n",
    "\n",
    "    discrete_allocation_list = []\n",
    "\n",
    "\n",
    "    for symbol in allocation:\n",
    "        discrete_allocation_list.append(allocation.get(symbol))\n",
    "\n",
    "\n",
    "    portfolio_df = pd.DataFrame(columns =['Ticker' , 'Number of stocks to buy'])\n",
    "\n",
    "    portfolio_df['Ticker'] = allocation\n",
    "    portfolio_df['Number of stocks to buy'] = discrete_allocation_list\n",
    "    print('Number of stocks to buy with the amount of $ ' + str(portfolio_amount))\n",
    "    print(portfolio_df)\n",
    "    print('Funds remaining with you will be: $' , int(leftover))\n"
   ]
  },
  {
   "cell_type": "code",
   "execution_count": 32,
   "id": "f0a99ccc-abb2-42d5-ae59-3090a75a1194",
   "metadata": {},
   "outputs": [
    {
     "data": {
      "image/png": "[encoded data removed]",
      "text/plain": [
       "<Figure size 864x576 with 1 Axes>"
      ]
     },
     "metadata": {},
     "output_type": "display_data"
    }
   ],
   "source": [
    "fig, ax = plt.subplots(figsize=(12,8))\n",
    "\n",
    "ef = EfficientFrontier(mu, S, weight_bounds=(-1,1))\n",
    "pplt.plot_efficient_frontier(ep, ax=ax, show_assets=False)\n",
    "\n",
    "# Find the tangency portfolio\n",
    "ef.max_sharpe()\n",
    "ret_tangent, std_tangent, _ = ef.portfolio_performance()\n",
    "ax.scatter(std_tangent, ret_tangent, marker=\"*\", s=100, c=\"r\", label=\"Max Sharpe\")\n",
    "\n",
    "# Generate random portfolios\n",
    "n_samples = 10000\n",
    "w = np.random.dirichlet(np.ones(len(mu)), n_samples)\n",
    "rets = w.dot(mu)\n",
    "stds = np.sqrt(np.diag(w @ S @ w.T))\n",
    "sharpes = rets / stds\n",
    "ax.scatter(stds, rets, marker=\".\", c=sharpes, cmap=\"viridis_r\")\n",
    "\n",
    "# Output\n",
    "ax.set_title(\"Efficient Frontier with random portfolios\")\n",
    "ax.legend()\n",
    "plt.show()"
   ]
  },
  {
   "cell_type": "markdown",
   "id": "95cc89ce-9dfb-41bb-b97e-18b35025d1e5",
   "metadata": {},
   "source": [
    "# VaR - Value at Risk"
   ]
  },
  {
   "cell_type": "markdown",
   "id": "9d745309-4ab9-40eb-ba21-c50ca289f967",
   "metadata": {},
   "source": [
    "Value at Risk, or <a href= 'https://pt.wikipedia.org/wiki/Value_at_Risk'> VaR <a/>, is a threshold with a given level that losses will not exceed a certain level."
   ]
  },
  {
   "cell_type": "code",
   "execution_count": 33,
   "id": "84212c44-e318-40f7-a09e-3768a31ca3ca",
   "metadata": {},
   "outputs": [
    {
     "data": {
      "text/html": [
       "<div>\n",
       "<style scoped>\n",
       "    .dataframe tbody tr th:only-of-type {\n",
       "        vertical-align: middle;\n",
       "    }\n",
       "\n",
       "    .dataframe tbody tr th {\n",
       "        vertical-align: top;\n",
       "    }\n",
       "\n",
       "    .dataframe thead th {\n",
       "        text-align: right;\n",
       "    }\n",
       "</style>\n",
       "<table border=\"1\" class=\"dataframe\">\n",
       "  <thead>\n",
       "    <tr style=\"text-align: right;\">\n",
       "      <th></th>\n",
       "      <th>Close/Last</th>\n",
       "      <th>Volume</th>\n",
       "      <th>Open</th>\n",
       "      <th>High</th>\n",
       "      <th>Low</th>\n",
       "    </tr>\n",
       "    <tr>\n",
       "      <th>Date</th>\n",
       "      <th></th>\n",
       "      <th></th>\n",
       "      <th></th>\n",
       "      <th></th>\n",
       "      <th></th>\n",
       "    </tr>\n",
       "  </thead>\n",
       "  <tbody>\n",
       "    <tr>\n",
       "      <th>2022-02-04</th>\n",
       "      <td>58.70</td>\n",
       "      <td>96534410</td>\n",
       "      <td>56.870</td>\n",
       "      <td>60.4100</td>\n",
       "      <td>55.89</td>\n",
       "    </tr>\n",
       "    <tr>\n",
       "      <th>2022-02-03</th>\n",
       "      <td>56.74</td>\n",
       "      <td>105575000</td>\n",
       "      <td>59.320</td>\n",
       "      <td>61.0700</td>\n",
       "      <td>56.12</td>\n",
       "    </tr>\n",
       "    <tr>\n",
       "      <th>2022-02-02</th>\n",
       "      <td>64.50</td>\n",
       "      <td>100815200</td>\n",
       "      <td>65.220</td>\n",
       "      <td>65.3697</td>\n",
       "      <td>62.35</td>\n",
       "    </tr>\n",
       "    <tr>\n",
       "      <th>2022-02-01</th>\n",
       "      <td>63.01</td>\n",
       "      <td>101845800</td>\n",
       "      <td>62.420</td>\n",
       "      <td>63.3500</td>\n",
       "      <td>59.73</td>\n",
       "    </tr>\n",
       "    <tr>\n",
       "      <th>2022-01-31</th>\n",
       "      <td>61.83</td>\n",
       "      <td>113751100</td>\n",
       "      <td>57.045</td>\n",
       "      <td>62.0599</td>\n",
       "      <td>56.22</td>\n",
       "    </tr>\n",
       "  </tbody>\n",
       "</table>\n",
       "</div>"
      ],
      "text/plain": [
       "            Close/Last     Volume    Open     High    Low\n",
       "Date                                                     \n",
       "2022-02-04       58.70   96534410  56.870  60.4100  55.89\n",
       "2022-02-03       56.74  105575000  59.320  61.0700  56.12\n",
       "2022-02-02       64.50  100815200  65.220  65.3697  62.35\n",
       "2022-02-01       63.01  101845800  62.420  63.3500  59.73\n",
       "2022-01-31       61.83  113751100  57.045  62.0599  56.22"
      ]
     },
     "execution_count": 33,
     "metadata": {},
     "output_type": "execute_result"
    }
   ],
   "source": [
    "tqqq.head()"
   ]
  }
 ],
 "metadata": {
  "kernelspec": {
   "display_name": "Python 3 (ipykernel)",
   "language": "python",
   "name": "python3"
  },
  "language_info": {
   "codemirror_mode": {
    "name": "ipython",
    "version": 3
   },
   "file_extension": ".py",
   "mimetype": "text/x-python",
   "name": "python",
   "nbconvert_exporter": "python",
   "pygments_lexer": "ipython3",
   "version": "3.7.11"
  }
 },
 "nbformat": 4,
 "nbformat_minor": 5
}
