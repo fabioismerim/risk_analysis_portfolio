{
 "cells": [
  {
   "cell_type": "markdown",
   "id": "f384fd36-d21a-4618-8a20-187d241df5e8",
   "metadata": {},
   "source": [
    "# Investment Risk and Returns"
   ]
  },
  {
   "cell_type": "code",
   "execution_count": 1,
   "id": "080d24f1-b821-4ba5-9d9b-a43edb4f7cf8",
   "metadata": {},
   "outputs": [],
   "source": [
    "# import packages\n",
    "\n",
    "import pandas as pd\n",
    "import numpy as np"
   ]
  },
  {
   "cell_type": "code",
   "execution_count": 6,
   "id": "91271c5a-b2f7-4ee6-ab83-416d7e30d8ca",
   "metadata": {},
   "outputs": [],
   "source": [
    "#import datasets\n",
    "\n",
    "amazon = pd.read_csv('dataset/AMAZON_HistoricalData.csv', parse_dates=['Date'])\n",
    "apple = pd.read_csv('dataset/APPLE_HistoricalData.csv', parse_dates=['Date'])\n",
    "baba = pd.read_csv('dataset/BABA_HistoricalData.csv', parse_dates=['Date'])\n",
    "tesla = pd.read_csv('dataset/TESLA_HistoricalData.csv', parse_dates=['Date'])\n",
    "tqqq = pd.read_csv('dataset/TQQQ_HistoricalData.csv', parse_dates=['Date'])"
   ]
  },
  {
   "cell_type": "code",
   "execution_count": 5,
   "id": "0526c5e7-792a-43d7-8a64-96de3ad408c4",
   "metadata": {},
   "outputs": [
    {
     "data": {
      "text/html": [
       "<div>\n",
       "<style scoped>\n",
       "    .dataframe tbody tr th:only-of-type {\n",
       "        vertical-align: middle;\n",
       "    }\n",
       "\n",
       "    .dataframe tbody tr th {\n",
       "        vertical-align: top;\n",
       "    }\n",
       "\n",
       "    .dataframe thead th {\n",
       "        text-align: right;\n",
       "    }\n",
       "</style>\n",
       "<table border=\"1\" class=\"dataframe\">\n",
       "  <thead>\n",
       "    <tr style=\"text-align: right;\">\n",
       "      <th></th>\n",
       "      <th>Date</th>\n",
       "      <th>Close/Last</th>\n",
       "      <th>Volume</th>\n",
       "      <th>Open</th>\n",
       "      <th>High</th>\n",
       "      <th>Low</th>\n",
       "    </tr>\n",
       "  </thead>\n",
       "  <tbody>\n",
       "    <tr>\n",
       "      <th>0</th>\n",
       "      <td>2022-01-26</td>\n",
       "      <td>$2777.45</td>\n",
       "      <td>4780085</td>\n",
       "      <td>$2895</td>\n",
       "      <td>$2903.695</td>\n",
       "      <td>$2746.37</td>\n",
       "    </tr>\n",
       "    <tr>\n",
       "      <th>1</th>\n",
       "      <td>2022-01-25</td>\n",
       "      <td>$2799.72</td>\n",
       "      <td>4541233</td>\n",
       "      <td>$2844.85</td>\n",
       "      <td>$2872</td>\n",
       "      <td>$2762.9</td>\n",
       "    </tr>\n",
       "    <tr>\n",
       "      <th>2</th>\n",
       "      <td>2022-01-24</td>\n",
       "      <td>$2890.88</td>\n",
       "      <td>7802237</td>\n",
       "      <td>$2780</td>\n",
       "      <td>$2898.9</td>\n",
       "      <td>$2707.04</td>\n",
       "    </tr>\n",
       "    <tr>\n",
       "      <th>3</th>\n",
       "      <td>2022-01-21</td>\n",
       "      <td>$2852.86</td>\n",
       "      <td>8198572</td>\n",
       "      <td>$2999</td>\n",
       "      <td>$3018</td>\n",
       "      <td>$2841.408</td>\n",
       "    </tr>\n",
       "    <tr>\n",
       "      <th>4</th>\n",
       "      <td>2022-01-20</td>\n",
       "      <td>$3033.35</td>\n",
       "      <td>3598666</td>\n",
       "      <td>$3135.32</td>\n",
       "      <td>$3160</td>\n",
       "      <td>$3027.02</td>\n",
       "    </tr>\n",
       "  </tbody>\n",
       "</table>\n",
       "</div>"
      ],
      "text/plain": [
       "        Date Close/Last   Volume      Open       High        Low\n",
       "0 2022-01-26   $2777.45  4780085     $2895  $2903.695   $2746.37\n",
       "1 2022-01-25   $2799.72  4541233  $2844.85      $2872    $2762.9\n",
       "2 2022-01-24   $2890.88  7802237     $2780    $2898.9   $2707.04\n",
       "3 2022-01-21   $2852.86  8198572     $2999      $3018  $2841.408\n",
       "4 2022-01-20   $3033.35  3598666  $3135.32      $3160   $3027.02"
      ]
     },
     "execution_count": 5,
     "metadata": {},
     "output_type": "execute_result"
    }
   ],
   "source": [
    "amazon.head()"
   ]
  },
  {
   "cell_type": "code",
   "execution_count": null,
   "id": "66db456e-5983-4b5e-9275-9e2021bacbdf",
   "metadata": {},
   "outputs": [],
   "source": []
  }
 ],
 "metadata": {
  "kernelspec": {
   "display_name": "Python 3 (ipykernel)",
   "language": "python",
   "name": "python3"
  },
  "language_info": {
   "codemirror_mode": {
    "name": "ipython",
    "version": 3
   },
   "file_extension": ".py",
   "mimetype": "text/x-python",
   "name": "python",
   "nbconvert_exporter": "python",
   "pygments_lexer": "ipython3",
   "version": "3.7.11"
  }
 },
 "nbformat": 4,
 "nbformat_minor": 5
}
